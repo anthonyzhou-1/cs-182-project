{
 "cells": [
  {
   "cell_type": "code",
   "execution_count": null,
   "metadata": {},
   "outputs": [],
   "source": [
    "%load_ext autoreload\n",
    "%autoreload 2"
   ]
  },
  {
   "cell_type": "code",
   "execution_count": 15,
   "metadata": {},
   "outputs": [
    {
     "name": "stdout",
     "output_type": "stream",
     "text": [
      "PyTorch has version 2.0.0+cu117 with cuda 11.7\n"
     ]
    }
   ],
   "source": [
    "import torch\n",
    "\n",
    "print(f\"PyTorch has version {torch.__version__} with cuda {torch.version.cuda}\")\n",
    "\n",
    "import reading_utils"
   ]
  },
  {
   "cell_type": "code",
   "execution_count": 7,
   "metadata": {},
   "outputs": [
    {
     "name": "stderr",
     "output_type": "stream",
     "text": [
      "Retrieving folder list\n"
     ]
    },
    {
     "name": "stdout",
     "output_type": "stream",
     "text": [
      "Processing file 1zz-pG1qkf6oAZ2R39_Xv1tDauq53XkXr metadata.json\n",
      "Processing file 1Fi0GueqwzabQrNTVhUgnk3vKVIBY0fE9 test.pt\n",
      "Processing file 1mqjL0BcOpvMfri1MdmOuRUXGfvwMoKoP train.pt\n",
      "Processing file 1gtUg0L2EgxdYl7fa-wecE6qGI5xriySz valid.pt\n",
      "Building directory structure completed\n"
     ]
    },
    {
     "name": "stderr",
     "output_type": "stream",
     "text": [
      "Retrieving folder list completed\n",
      "Building directory structure\n",
      "Downloading...\n",
      "From: https://drive.google.com/uc?id=1zz-pG1qkf6oAZ2R39_Xv1tDauq53XkXr\n",
      "To: d:\\UCB\\Sp2023\\CS282A\\cs-182-project\\Sand\\metadata.json\n",
      "100%|██████████| 360/360 [00:00<?, ?B/s] \n",
      "Downloading...\n",
      "From (uriginal): https://drive.google.com/uc?id=1Fi0GueqwzabQrNTVhUgnk3vKVIBY0fE9\n",
      "From (redirected): https://drive.google.com/uc?id=1Fi0GueqwzabQrNTVhUgnk3vKVIBY0fE9&confirm=t&uuid=d69adc12-d235-453a-9e8d-66c66c5c2245\n",
      "To: d:\\UCB\\Sp2023\\CS282A\\cs-182-project\\Sand\\test.pt\n",
      "100%|██████████| 98.2M/98.2M [00:01<00:00, 87.3MB/s]\n",
      "Downloading...\n",
      "From (uriginal): https://drive.google.com/uc?id=1mqjL0BcOpvMfri1MdmOuRUXGfvwMoKoP\n",
      "From (redirected): https://drive.google.com/uc?id=1mqjL0BcOpvMfri1MdmOuRUXGfvwMoKoP&confirm=t&uuid=bec4a650-b9d6-41d9-b2c9-f4007bc951d0\n",
      "To: d:\\UCB\\Sp2023\\CS282A\\cs-182-project\\Sand\\train.pt\n",
      "100%|██████████| 3.07G/3.07G [00:32<00:00, 94.5MB/s]\n",
      "Downloading...\n",
      "From (uriginal): https://drive.google.com/uc?id=1gtUg0L2EgxdYl7fa-wecE6qGI5xriySz\n",
      "From (redirected): https://drive.google.com/uc?id=1gtUg0L2EgxdYl7fa-wecE6qGI5xriySz&confirm=t&uuid=35cfccb3-e7ac-4173-8fd9-77d75d5c9828\n",
      "To: d:\\UCB\\Sp2023\\CS282A\\cs-182-project\\Sand\\valid.pt\n",
      "100%|██████████| 94.8M/94.8M [00:00<00:00, 98.4MB/s]\n",
      "Download completed\n"
     ]
    },
    {
     "data": {
      "text/plain": [
       "['d:\\\\UCB\\\\Sp2023\\\\CS282A\\\\cs-182-project\\\\Sand\\\\metadata.json',\n",
       " 'd:\\\\UCB\\\\Sp2023\\\\CS282A\\\\cs-182-project\\\\Sand\\\\test.pt',\n",
       " 'd:\\\\UCB\\\\Sp2023\\\\CS282A\\\\cs-182-project\\\\Sand\\\\train.pt',\n",
       " 'd:\\\\UCB\\\\Sp2023\\\\CS282A\\\\cs-182-project\\\\Sand\\\\valid.pt']"
      ]
     },
     "execution_count": 7,
     "metadata": {},
     "output_type": "execute_result"
    }
   ],
   "source": [
    "import gdown\n",
    "gdown.download_folder(\"https://drive.google.com/drive/folders/1w-aWuQJEr2BqDkEMQdcKnRBBJapwLtBT\")"
   ]
  },
  {
   "cell_type": "code",
   "execution_count": 13,
   "metadata": {},
   "outputs": [],
   "source": [
    "ds_train = torch.load('Sand/train.pt')\n",
    "ds_test = torch.load('Sand/test.pt')\n",
    "ds_valid = torch.load('Sand/valid.pt')"
   ]
  },
  {
   "cell_type": "code",
   "execution_count": 12,
   "metadata": {},
   "outputs": [
    {
     "data": {
      "text/plain": [
       "{'particle_type': tensor([6, 6, 6,  ..., 6, 6, 6]),\n",
       " 'key': <tf.Tensor: shape=(), dtype=int64, numpy=0>,\n",
       " 'position': tensor([[[0.4210, 0.5497],\n",
       "          [0.4064, 0.5722],\n",
       "          [0.3917, 0.5945],\n",
       "          ...,\n",
       "          [0.5590, 0.1381],\n",
       "          [0.5590, 0.1381],\n",
       "          [0.5590, 0.1381]],\n",
       " \n",
       "         [[0.4105, 0.5519],\n",
       "          [0.3959, 0.5744],\n",
       "          [0.3813, 0.5967],\n",
       "          ...,\n",
       "          [0.5227, 0.1448],\n",
       "          [0.5227, 0.1448],\n",
       "          [0.5227, 0.1448]],\n",
       " \n",
       "         [[0.4101, 0.5444],\n",
       "          [0.3955, 0.5670],\n",
       "          [0.3809, 0.5893],\n",
       "          ...,\n",
       "          [0.5404, 0.1396],\n",
       "          [0.5404, 0.1396],\n",
       "          [0.5404, 0.1397]],\n",
       " \n",
       "         ...,\n",
       " \n",
       "         [[0.6467, 0.6702],\n",
       "          [0.6564, 0.6687],\n",
       "          [0.6660, 0.6671],\n",
       "          ...,\n",
       "          [0.7642, 0.2511],\n",
       "          [0.7642, 0.2511],\n",
       "          [0.7642, 0.2511]],\n",
       " \n",
       "         [[0.8146, 0.6852],\n",
       "          [0.8243, 0.6838],\n",
       "          [0.8339, 0.6822],\n",
       "          ...,\n",
       "          [0.8362, 0.3816],\n",
       "          [0.8362, 0.3816],\n",
       "          [0.8362, 0.3816]],\n",
       " \n",
       "         [[0.8456, 0.6026],\n",
       "          [0.8552, 0.6012],\n",
       "          [0.8649, 0.5995],\n",
       "          ...,\n",
       "          [0.8361, 0.2178],\n",
       "          [0.8361, 0.2178],\n",
       "          [0.8361, 0.2178]]]),\n",
       " 'n_particles_per_example': tensor([1730], dtype=torch.int32),\n",
       " 'is_trajectory': tensor([True])}"
      ]
     },
     "execution_count": 12,
     "metadata": {},
     "output_type": "execute_result"
    }
   ],
   "source": []
  },
  {
   "cell_type": "code",
   "execution_count": null,
   "metadata": {},
   "outputs": [],
   "source": []
  }
 ],
 "metadata": {
  "kernelspec": {
   "display_name": "182project",
   "language": "python",
   "name": "python3"
  },
  "language_info": {
   "codemirror_mode": {
    "name": "ipython",
    "version": 3
   },
   "file_extension": ".py",
   "mimetype": "text/x-python",
   "name": "python",
   "nbconvert_exporter": "python",
   "pygments_lexer": "ipython3",
   "version": "3.11.3"
  },
  "orig_nbformat": 4
 },
 "nbformat": 4,
 "nbformat_minor": 2
}
